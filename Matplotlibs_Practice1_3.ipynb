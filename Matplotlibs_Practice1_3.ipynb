{
 "cells": [
  {
   "cell_type": "code",
   "execution_count": null,
   "id": "985ca2d8",
   "metadata": {},
   "outputs": [],
   "source": [
    "import matplotlib.pyplot as plt\n",
    "import numpy as np"
   ]
  },
  {
   "cell_type": "code",
   "execution_count": null,
   "id": "c8cab7c2",
   "metadata": {},
   "outputs": [],
   "source": [
    "fig, ax=plt.subplots(figsize=(7,7))\n",
    "fig.suptitle(\"Title of a Figure\",fontsize=30, fontfamily='monospace')"
   ]
  },
  {
   "cell_type": "code",
   "execution_count": null,
   "id": "c6a25908",
   "metadata": {
    "scrolled": true
   },
   "outputs": [],
   "source": [
    "figsize = (7, 7)\n",
    "ax_title_list = ['title ' + str(i) for i in range(4)]\n",
    "fig, axes = plt.subplots(2, 2, figsize=figsize)\n",
    "fig.suptitle(\"Title of a Figure\",fontsize=30,fontfamily='monospace')\n",
    "\n",
    "for ax_idx, ax in enumerate(axes.flat):\n",
    "     ax.set_title(ax_title_list[ax_idx],fontsize=20,fontfamily='serif')\n",
    "fig.tight_layout()"
   ]
  },
  {
   "cell_type": "code",
   "execution_count": null,
   "id": "d41f4be6",
   "metadata": {},
   "outputs": [],
   "source": [
    "figsize = (7, 7)\n",
    "fig, ax = plt.subplots(figsize=figsize)\n",
    "fig.suptitle(\"Title of a Figure\",fontsize=30,color='darkblue',alpha=0.9)\n",
    "ax.set_xlabel(\"X label\",fontsize=20)\n",
    "ax.set_ylabel(\"Y label\",fontsize=20)"
   ]
  },
  {
   "cell_type": "code",
   "execution_count": null,
   "id": "f89d8bbb",
   "metadata": {},
   "outputs": [],
   "source": [
    "figsize = (7, 7)\n",
    "fig, ax = plt.subplots(figsize=figsize)\n",
    "ax.set_xlabel(\"X label\",fontsize=20,color='darkblue',alpha=0.7)\n",
    "ax.set_ylabel(\"Y label\",fontsize=20,color='darkblue',alpha=0.7)"
   ]
  },
  {
   "cell_type": "code",
   "execution_count": null,
   "id": "0becf234",
   "metadata": {},
   "outputs": [],
   "source": [
    "figsize = (7, 7)\n",
    "fig, ax = plt.subplots(figsize=figsize)\n",
    "\n",
    "ax_impulse = fig.add_axes([0.2, 0.55, 0.25, 0.25])\n",
    "ax_prob = fig.add_axes([0.6, 0.55, 0.25, 0.25])\n",
    "\n",
    "ax_impulse.get_xaxis().set_visible(False)\n",
    "ax_impulse.get_yaxis().set_visible(False)\n",
    "\n",
    "ax_prob.get_xaxis().set_visible(False)\n",
    "ax_prob.get_yaxis().set_visible(False)\n",
    "\n",
    "fig.suptitle(\"Gaussian colored noise\",fontsize=20)\n",
    "ax.set_xlabel(\"time (s)\",fontsize=15)\n",
    "ax.set_ylabel(\"current (nA)\",fontsize=15)\n",
    "ax_impulse.set_title(\"Impulse response\",fontsize=15)\n",
    "ax_prob.set_title(\"Probability\",fontsize=15)"
   ]
  },
  {
   "cell_type": "code",
   "execution_count": null,
   "id": "84246a94",
   "metadata": {},
   "outputs": [],
   "source": [
    "fig, ax =plt.subplots(figsize=(7,7))\n",
    "ax.set_xlim([-1,1])\n",
    "ax.set_ylim([-1,1])\n",
    "ax.grid()\n",
    "ax.tick_params(axis='both',labelsize=15)\n",
    "ax.text(0,0,s='Hello',fontsize=30)"
   ]
  },
  {
   "cell_type": "code",
   "execution_count": null,
   "id": "bb0655db",
   "metadata": {},
   "outputs": [],
   "source": [
    "figsize=(7, 7)\n",
    "fig, ax = plt.subplots(figsize=figsize)\n",
    "\n",
    "ax.set_xlim([-1, 1])\n",
    "ax.set_ylim([-1, 1])\n",
    "ax.grid()\n",
    "ax.tick_params(axis='both',labelsize=15)\n",
    "\n",
    "ax.text(x=0, y=0,s=\"Hello1\",fontsize=30)\n",
    "ax.text(x=0.5, y=0,s=\"Hello2\",fontsize=30)\n",
    "ax.text(x=0.5, y=-0.5,s=\"Hello3\",fontsize=30)"
   ]
  },
  {
   "cell_type": "code",
   "execution_count": null,
   "id": "8add6831",
   "metadata": {},
   "outputs": [],
   "source": [
    "fig, ax = plt.subplots(figsize=(7,7))\n",
    "\n",
    "ax.set_xlim([-1, 1])\n",
    "ax.set_ylim([-1, 1])\n",
    "\n",
    "ax.grid()\n",
    "\n",
    "ax.text(x=0,y=0,va='top', ha='center',s=\"Hello\",fontsize=30)\n",
    "ax.text(x=0, y=0,va='bottom', ha='center',s=\"Hello\",fontsize=30)\n",
    "ax.text(x=0, y=0,va='center', ha='center',s=\"Hello\",fontsize=30)"
   ]
  },
  {
   "cell_type": "code",
   "execution_count": null,
   "id": "38c71eb2",
   "metadata": {},
   "outputs": [],
   "source": [
    "fig, ax = plt.subplots(figsize=(7,7))\n",
    "\n",
    "ax.set_xlim([-5, 5])\n",
    "ax.set_ylim([-5, 5])\n",
    "\n",
    "ax.grid()\n",
    "ax.tick_params(axis='both',labelsize=15)\n",
    "ax.text(x=-4, y=4,va='top', ha='left',s=\"Hello1\",fontsize=30)\n",
    "ax.text(x=4, y=4,va='top', ha='right',s=\"Hello2\",fontsize=30)\n",
    "ax.text(x=-4, y=-4,va='bottom', ha='left',s=\"Hello3\",fontsize=30)\n",
    "ax.text(x=4, y=-4,va='bottom', ha='right',s=\"Hello4\",fontsize=30)"
   ]
  },
  {
   "cell_type": "code",
   "execution_count": null,
   "id": "a0fb37a1",
   "metadata": {},
   "outputs": [],
   "source": [
    "figsize = (7, 7)\n",
    "fig, ax = plt.subplots(figsize=figsize)\n",
    "title_bottom = 0.9 ##0.8 ##0.7\n",
    "fig.suptitle(\"Title\",\n",
    "fontsize=30,\n",
    "y=title_bottom,\n",
    "va='bottom')\n",
    "fig.subplots_adjust(top=title_bottom)"
   ]
  },
  {
   "cell_type": "code",
   "execution_count": null,
   "id": "aab137eb",
   "metadata": {},
   "outputs": [],
   "source": [
    "figsize = (7, 7)\n",
    "fig, ax = plt.subplots(figsize=figsize)\n",
    "title_bottom = 0.9\n",
    "fig.suptitle(\"Title\",\n",
    "fontsize=30,\n",
    "y=title_bottom,\n",
    "va='bottom')\n",
    "ax.set_title(\"Ax Title\",\n",
    "fontsize=20)\n",
    "##fig.subplots_adjust(top=title_bottom)\n",
    "fig.subplots_adjust(top=title_bottom-0.1)\n"
   ]
  },
  {
   "cell_type": "code",
   "execution_count": null,
   "id": "11299a0c",
   "metadata": {},
   "outputs": [],
   "source": [
    "figsize = (7, 7)\n",
    "fig, ax = plt.subplots(figsize=figsize)\n",
    "ax.set_title(\"Ax Title\",fontsize=20,y=0)\n",
    "##ax.set_title(\"Ax Title\",fontsize=20,y=0.5)\n",
    "##ax.set_title(\"Ax Title\",fontsize=20,y=1)"
   ]
  },
  {
   "cell_type": "code",
   "execution_count": null,
   "id": "3a906611",
   "metadata": {},
   "outputs": [],
   "source": [
    "figsize = (7, 7)\n",
    "fig, ax = plt.subplots(figsize=figsize)\n",
    "ax.set_title(\"Ax Title\",fontsize=20,y=-0.15)\n",
    "#ax.set_title(\"Ax Title\",fontsize=20,y=-0.1)\n",
    "#ax.set_title(\"Ax Title\",fontsize=20,y=-0.05)\n"
   ]
  },
  {
   "cell_type": "code",
   "execution_count": null,
   "id": "a452ab89",
   "metadata": {},
   "outputs": [],
   "source": [
    "figsize = (7, 7)\n",
    "fig, ax = plt.subplots(figsize=figsize)\n",
    "title_bottom = 0.9\n",
    "fig.suptitle(\"Title\",fontsize=30,y=title_bottom,va='bottom')\n",
    "ax.set_title(\"Ax Title\",fontsize=20,y=-0.1)\n",
    "\n",
    "fig.subplots_adjust(top=title_bottom)"
   ]
  },
  {
   "cell_type": "code",
   "execution_count": null,
   "id": "50175c48",
   "metadata": {},
   "outputs": [],
   "source": [
    "ax_title_list = ['(a) CE - clean', '(b) CE - noisy',\n",
    "'(c) LSR - noisy', '(d) SL - noisy']\n",
    "title_bottom = 0.9\n",
    "figsize = (10, 10)\n",
    "fig, axes = plt.subplots(2, 2,figsize=figsize)\n",
    "fig.suptitle(\"Symmetric Cross Entropy\",fontsize=30,y=title_bottom+0.03,va='bottom')\n",
    "for ax_idx, ax in enumerate(axes.flat):\n",
    "    ax.set_title(ax_title_list[ax_idx],fontsize=20,y=-0.25)\n",
    "    ax.set_xlabel(\"Number of Epochs\",fontsize=15)\n",
    "    ax.set_ylabel(\"Class-wise Test Accuracy\",fontsize=15)\n",
    "fig.subplots_adjust(top=title_bottom, bottom=0.1,hspace=0.3, wspace=0.3)"
   ]
  },
  {
   "cell_type": "code",
   "execution_count": null,
   "id": "501e2863",
   "metadata": {},
   "outputs": [],
   "source": [
    "figsize = (7, 7)\n",
    "fig, ax = plt.subplots(figsize=figsize)\n",
    "fontsize_list = [20, 30, 40]\n",
    "ax.set_xlim([-1, 1])\n",
    "ax.set_ylim([0, len(fontsize_list)+1])\n",
    "for font_idx, fontsize in enumerate(fontsize_list):\n",
    "    ax.text(0, font_idx+1, ha='center',s=\"fontsize=\"+str(fontsize),fontsize=fontsize)"
   ]
  },
  {
   "cell_type": "code",
   "execution_count": null,
   "id": "3a4c397d",
   "metadata": {},
   "outputs": [],
   "source": [
    "figsize = (7, 7)\n",
    "fig, ax = plt.subplots(figsize=figsize)\n",
    "fontfamily_list = ['serif', 'sans-serif','cursive', 'fantasy','monospace']\n",
    "ax.set_xlim([-1, 1])\n",
    "ax.set_ylim([0, len(fontfamily_list)+1])\n",
    "for font_idx, fontfamily in enumerate(fontfamily_list):\n",
    "    ax.text(0, font_idx+1, ha=\"center\",s=fontfamily,fontsize=30,fontfamily=fontfamily)"
   ]
  },
  {
   "cell_type": "code",
   "execution_count": null,
   "id": "f9312e40",
   "metadata": {},
   "outputs": [],
   "source": [
    "figsize = (7, 7)\n",
    "fig, ax = plt.subplots(figsize=figsize)\n",
    "fontweight_list = ['normal', 'bold']\n",
    "ax.set_xlim([-1, 1])\n",
    "ax.set_ylim([0, len(fontweight_list)+1])\n",
    "for font_idx, fontweight in enumerate(fontweight_list):\n",
    "    ax.text(0, font_idx+1, ha=\"center\",s='fontweight='+fontweight,fontsize=30,fontweight=fontweight)"
   ]
  },
  {
   "cell_type": "code",
   "execution_count": null,
   "id": "32c1b30a",
   "metadata": {},
   "outputs": [],
   "source": [
    "figsize = (7, 7)\n",
    "fig, ax = plt.subplots(figsize=figsize)\n",
    "alpha_list = [0.1, 0.3, 0.5, 0.7, 0.9, 1]\n",
    "ax.set_xlim([-1, 1])\n",
    "ax.set_ylim([0, len(alpha_list)+1])\n",
    "for a_idx, alpha in enumerate(alpha_list):\n",
    "    ax.text(0, a_idx+1, ha=\"center\",\n",
    "            s='alpha='+str(alpha),\n",
    "            fontsize=30,alpha=alpha)"
   ]
  },
  {
   "cell_type": "code",
   "execution_count": null,
   "id": "3d077ba1",
   "metadata": {},
   "outputs": [],
   "source": [
    "figsize = (7, 7)\n",
    "fig, ax = plt.subplots(figsize=figsize)\n",
    "color_list = ['red', 'darkred', 'chocolate',\n",
    "'orange', 'olive', 'palegreen',\n",
    "'skyblue', 'navy', 'indigo']\n",
    "ax.set_xlim([-1, 1])\n",
    "ax.set_ylim([0, len(color_list)+1])\n",
    "for c_idx, color in enumerate(color_list):\n",
    "    ax.text(0, c_idx+1, ha=\"center\",s=color,\n",
    "            fontsize=30,\n",
    "            color=color)"
   ]
  },
  {
   "cell_type": "code",
   "execution_count": null,
   "id": "3be04dad",
   "metadata": {},
   "outputs": [],
   "source": [
    "figsize = (7, 7)\n",
    "fig, ax = plt.subplots(figsize=figsize)\n",
    "bbox_list = [{'boxstyle': 'DArrow', 'color': 'red', 'alpha': 0.5},\n",
    "            {'boxstyle': 'Round', 'color': 'orange', 'alpha': 0.5},\n",
    "            {'boxstyle': 'Sawtooth', 'color': 'red', 'alpha': 0.5},\n",
    "            {'boxstyle': 'Square', 'color': 'navy', 'alpha': 0.5}]\n",
    "ax.set_xlim([-5, 5])\n",
    "ax.set_ylim([0, len(bbox_list)+1])\n",
    "for b_idx, bbox in enumerate(bbox_list):\n",
    "    ax.text(0, b_idx+1, ha=\"center\",s=bbox,\n",
    "            fontsize=15,bbox=bbox)"
   ]
  },
  {
   "cell_type": "code",
   "execution_count": null,
   "id": "85147ac1",
   "metadata": {},
   "outputs": [],
   "source": [
    "figsize = (7, 7)\n",
    "fig, ax = plt.subplots(figsize=figsize)\n",
    "rotation_list = [0, 15, 30, 45, 60, 75, 90]\n",
    "ax.set_xlim([0, len(rotation_list)+3])\n",
    "ax.set_ylim([0, len(rotation_list)+3])\n",
    "for r_idx, rotation in enumerate(rotation_list):\n",
    "    ax.text(len(rotation_list)+1 - r_idx, r_idx+1, ha=\"center\",\n",
    "    s='rotation='+str(rotation),\n",
    "    fontsize=15,rotation=rotation)"
   ]
  },
  {
   "cell_type": "code",
   "execution_count": null,
   "id": "3cd6c7c2",
   "metadata": {},
   "outputs": [],
   "source": [
    "np.random.seed(0)\n",
    "fig, ax = plt.subplots(figsize=(7, 7))\n",
    "data = np.random.normal(0, 1, (10,))\n",
    "M_idx, M_val = np.argmax(data), np.round(np.max(data),2)\n",
    "m_idx, m_val = np.argmin(data), np.round(np.min(data), 2)\n",
    "M_string = \"Max: ({},{})\".format(str(M_idx), str(M_val))\n",
    "m_string = \"min: ({},{})\".format(str(m_idx), str(m_val))\n",
    "\n",
    "ax.plot(data)"
   ]
  },
  {
   "cell_type": "code",
   "execution_count": null,
   "id": "49a11d28",
   "metadata": {},
   "outputs": [],
   "source": [
    "np.random.seed(0)\n",
    "\n",
    "fig, ax = plt.subplots(figsize=(7, 7))\n",
    "data = np.random.normal(0, 1, (10,))\n",
    "\n",
    "M_idx, M_val = np.argmax(data), np.round(np.max(data),2)\n",
    "m_idx, m_val = np.argmin(data), np.round(np.min(data), 2)\n",
    "\n",
    "M_string = \"Max: ({},{})\".format(str(M_idx), str(M_val))\n",
    "m_string = \"min: ({},{})\".format(str(m_idx), str(m_val))\n",
    "ax.plot(data)\n",
    "\n",
    "ax.set_title(\"Random Data\",fontsize=30,fontfamily='serif',\n",
    "            color='darkblue',\n",
    "            alpha=0.8)\n",
    "ax.set_xlabel(\"Data Index\",fontsize=20,color='darkblue',\n",
    "            alpha=0.6)\n",
    "ax.set_ylabel(\"Data Value\",fontsize=20,color='darkblue',\n",
    "            alpha=0.6)\n"
   ]
  },
  {
   "cell_type": "code",
   "execution_count": null,
   "id": "24bae4d8",
   "metadata": {},
   "outputs": [],
   "source": [
    "np.random.seed(0)\n",
    "fig, ax = plt.subplots(figsize=(7, 7))\n",
    "data = np.random.normal(0, 1, (10,))\n",
    "\n",
    "M_idx, M_val = np.argmax(data), np.round(np.max(data),2)\n",
    "m_idx, m_val = np.argmin(data), np.round(np.min(data), 2)\n",
    "M_string = \"Max: ({},{})\".format(str(M_idx), str(M_val))\n",
    "m_string = \"min: ({},{})\".format(str(m_idx), str(m_val))\n",
    "ax.plot(data)\n",
    "\n",
    "\n",
    "ax.set_title(\"Random Data\",\n",
    "fontsize=30,\n",
    "fontfamily='serif',\n",
    "color='darkblue',\n",
    "alpha=0.8)\n",
    "ax.set_xlabel(\"Data Index\",\n",
    "fontsize=20,\n",
    "color='darkblue',\n",
    "alpha=0.6)\n",
    "ax.set_ylabel(\"Data Value\",\n",
    "fontsize=20,\n",
    "color='darkblue',\n",
    "alpha=0.6)\n",
    "\n",
    "ax.text(x=M_idx+0.5, y=M_val-0.1,\n",
    "s=M_string,\n",
    "fontsize=20,\n",
    "color='r',\n",
    "bbox={'boxstyle': 'Round',\n",
    "'color': 'r', 'alpha': 0.3})\n",
    "\n",
    "ax.text(x=m_idx+0.5, y=m_val+0.1,\n",
    "s=m_string,\n",
    "fontsize=20,\n",
    "color='b',\n",
    "bbox={'boxstyle': 'Round',\n",
    "'color': 'b', 'alpha': 0.3})"
   ]
  },
  {
   "cell_type": "code",
   "execution_count": null,
   "id": "5a26071b",
   "metadata": {},
   "outputs": [],
   "source": [
    "np.random.seed(0)\n",
    "fig, ax = plt.subplots(figsize=(7, 7))\n",
    "data = np.random.normal(0, 1, (10,))\n",
    "\n",
    "M_idx, M_val = np.argmax(data), np.round(np.max(data),2)\n",
    "m_idx, m_val = np.argmin(data), np.round(np.min(data), 2)\n",
    "\n",
    "M_string = \"Max: ({},{})\".format(str(M_idx), str(M_val))\n",
    "m_string = \"min: ({},{})\".format(str(m_idx), str(m_val))\n",
    "\n",
    "ax.plot(data)\n",
    "\n",
    "title_font_dict = {'fontsize': 30, 'fontfamily': 'serif','color': 'darkblue', 'alpha': 0.8}\n",
    "ax.set_title(\"Random Data\",fontdict=title_font_dict)\n",
    "\n",
    "xylabel_font_dict = {'fontsize': 20, 'fontfamily': 'monospace','color': 'darkblue', 'alpha': 0.6}\n",
    "\n",
    "M_font_dict = {'fontsize': 20, 'color': 'r','bbox': {'boxstyle': 'Round','color': 'r', 'alpha': 0.3}}\n",
    "m_font_dict = {'fontsize': 20, 'color': 'b','bbox': {'boxstyle': 'Round','color': 'b', 'alpha': 0.3}}\n",
    "\n",
    "ax.set_xlabel(\"Data Index\",fontdict=xylabel_font_dict)\n",
    "ax.set_ylabel(\"Data Value\",fontdict=xylabel_font_dict)\n",
    "\n",
    "ax.text(x=M_idx+0.5, y=M_val-0.1,s=M_string,fontdict=M_font_dict)\n",
    "ax.text(x=m_idx+0.5, y=m_val+0.1,s=m_string,fontdict=m_font_dict)"
   ]
  },
  {
   "cell_type": "code",
   "execution_count": null,
   "id": "f9577812",
   "metadata": {},
   "outputs": [],
   "source": [
    "title_list = ['Training Image', '2 scales',\n",
    "            '4 scales', '5 scales',\n",
    "            '6 scales', '8 scaels']\n",
    "title_font_dict = {'fontsize': 20,'fontweight': 'bold'}\n",
    "fig, axes = plt.subplots(2, 3,figsize=(20, 10))\n",
    "\n",
    "for ax_idx, ax in enumerate(axes.flat):\n",
    "    ax.set_title(title_list[ax_idx],fontdict=title_font_dict)\n",
    "    ax.get_xaxis().set_visible(False)\n",
    "    ax.get_yaxis().set_visible(False)\n",
    "\n",
    "fig.tight_layout()"
   ]
  },
  {
   "cell_type": "code",
   "execution_count": null,
   "id": "bed70405",
   "metadata": {},
   "outputs": [],
   "source": [
    "title_list = ['Blurry image', 'Ours', 'Mohan et al.']\n",
    "fig = plt.figure(figsize=(24, 10))\n",
    "axes = np.empty((0, 4))\n",
    "n_g, n_col, n_row = 3, 4, 5\n",
    "\n",
    "for g_idx in range(n_g):\n",
    "    axes_row = np.empty((0,))\n",
    "    axes_row = np.append(axes_row,\n",
    "    plt.subplot2grid((5, 12), (0, g_idx*n_col),colspan=4, rowspan=3,\n",
    "    fig=fig))\n",
    "    axes_row = np.append(axes_row,plt.subplot2grid((5, 12), (3, g_idx*n_col),\n",
    "    colspan=3, rowspan=2,fig=fig))\n",
    "    axes_row = np.append(axes_row,plt.subplot2grid((5, 12), (3, 3 + g_idx*n_col),\n",
    "    fig=fig))\n",
    "    axes_row = np.append(axes_row,plt.subplot2grid((5, 12), (4, 3 + g_idx*n_col),\n",
    "    fig=fig))\n",
    "\n",
    "for ax in axes_row:\n",
    "    ax.get_xaxis().set_visible(False)\n",
    "    ax.get_yaxis().set_visible(False)\n",
    "\n",
    "axes = np.vstack((axes, axes_row))\n",
    "axes_row[0].set_title(title_list[g_idx],fontsize=30,y=-0.83)\n",
    "\n",
    "fig.subplots_adjust(bottom=0.1, top=0.95,\n",
    "left=0.05, right=0.95,\n",
    "hspace=0.05, wspace=0.05)"
   ]
  }
 ],
 "metadata": {
  "kernelspec": {
   "display_name": "Python 3 (ipykernel)",
   "language": "python",
   "name": "python3"
  },
  "language_info": {
   "codemirror_mode": {
    "name": "ipython",
    "version": 3
   },
   "file_extension": ".py",
   "mimetype": "text/x-python",
   "name": "python",
   "nbconvert_exporter": "python",
   "pygments_lexer": "ipython3",
   "version": "3.9.13"
  }
 },
 "nbformat": 4,
 "nbformat_minor": 5
}
